{
 "cells": [
  {
   "cell_type": "markdown",
   "metadata": {},
   "source": [
    "# W8 PIT Practical "
   ]
  },
  {
   "cell_type": "markdown",
   "metadata": {},
   "source": [
    "# Fibonacci number\n",
    "---"
   ]
  },
  {
   "cell_type": "markdown",
   "metadata": {},
   "source": [
    "The Fibonacci numbers are `0, 1, 1, 2, 3, 5, 8, 13, 21...`. \n",
    "\n",
    "The formula is `Fn = Fn-1 + Fn-2`, with `F0=0` and `F1=1`. \n",
    "\n",
    "For example,\n",
    "- `F2 = F1 + F0 = 1 + 0 = 1`\n",
    "-  `F3 = F2 + F1 = 1 + 1 = 2`\n",
    "-  `F4 = F3 + F2 = 2 + 1 = 3`\n",
    "- `F5 = F4 + F3 = 3 + 2 = 5`\n",
    "- ..."
   ]
  },
  {
   "cell_type": "markdown",
   "metadata": {},
   "source": [
    "## Task 1 (25%)\n",
    "Please complete the function `fibo` below that displays Fibonacci number using a **non-recursive** approach"
   ]
  },
  {
   "cell_type": "code",
   "execution_count": 17,
   "metadata": {
    "tags": []
   },
   "outputs": [
    {
     "name": "stdout",
     "output_type": "stream",
     "text": [
      "f1 = 1\n",
      "f2 = 1\n",
      "f3 = 2\n",
      "f4 = 3\n",
      "f5 = 5\n"
     ]
    }
   ],
   "source": [
    "def fibo(n):\n",
    "    i = 1\n",
    "    f0 = 0 #0th result\n",
    "    f1 = 1 #1st result\n",
    "    fi = 1 #fib result\n",
    "    while i < n+1:\n",
    "        print(f'f{i} = {fi}') #i = counter for while loop\n",
    "        if n > 0: #check to see if n is larger than 0\n",
    "        # INPUT YOUR CODE BELOW\n",
    "        # approx 3 lines\n",
    "            fi = f0 + f1 #fibonacci seq, (Fn = F(n-1)+F(n-2))\n",
    "            i += 1 #increase counter by 1\n",
    "            f0 = f1 #assign new f0 to f1\n",
    "            f1 = fi #assign new f1 to fi\n",
    "\n",
    "        \n",
    "# =======================\n",
    "# EXAMPLE TESTING CASES\n",
    "fibo(5)\n",
    "# output:\n",
    "# f1 = 1\n",
    "# f2 = 1\n",
    "# f3 = 2\n",
    "# f4 = 3\n",
    "# f5 = 5"
   ]
  },
  {
   "cell_type": "markdown",
   "metadata": {},
   "source": [
    "## Task 2 (25%)\n",
    "Please display Fibonacci number using a recursive approach"
   ]
  },
  {
   "cell_type": "code",
   "execution_count": 5,
   "metadata": {
    "tags": []
   },
   "outputs": [
    {
     "name": "stdout",
     "output_type": "stream",
     "text": [
      "f10 is: 55\n",
      "f20 is: 6765\n"
     ]
    }
   ],
   "source": [
    "def fibo_rec(n):\n",
    "    #0 or 1 in fib seq does not need to be added or subtracted\n",
    "    if n == 0 or n == 1: \n",
    "        #return original value\n",
    "        return n \n",
    "    else:\n",
    "        #e.g. 3-1 = 2(4th element), 3-2 = 1(2 and 3rd element)\n",
    "        return fibo_rec(n-1) + fibo_rec(n-2) \n",
    "# =======================\n",
    "# EXAMPLE TESTING CASES\n",
    "# DO NOT CHANGE\n",
    "n = 10\n",
    "print(f'f{n} is: {fibo_rec(n)}') # f10 is: 55\n",
    "\n",
    "n = 20\n",
    "print(f'f{n} is: {fibo_rec(n)}') # f20 is: 6765"
   ]
  },
  {
   "cell_type": "markdown",
   "metadata": {},
   "source": [
    "## Task 3 (25%)\n",
    "Please implement the quick sort algorithm that \n",
    "1. sort the numbers in **ascending** order and\n",
    "1. uses the **first** element as the pivot."
   ]
  },
  {
   "cell_type": "code",
   "execution_count": 18,
   "metadata": {
    "tags": []
   },
   "outputs": [
    {
     "name": "stdout",
     "output_type": "stream",
     "text": [
      "[12, 21, 23, 43]\n"
     ]
    }
   ],
   "source": [
    "import random\n",
    "\n",
    "def qsort(arr):\n",
    "    # YOUR CODE BELOW\n",
    "    # ~ 2 lines, the base case    \n",
    "    if len(arr) < 2:\n",
    "        return arr #there are only 2 elements in this case so it is already sorted\n",
    "    else:\n",
    "        # Read two lines below carefully, you will implement the partition function\n",
    "        lesser, greater = partition(arr)\n",
    "        return qsort(lesser) + [arr[0]] + qsort(greater) \n",
    "    \n",
    "def partition(arr):\n",
    "    lesser = []\n",
    "    greater = []\n",
    "    pivot = arr[0]\n",
    "    # YOUR CODE BELOW\n",
    "    # ~ 5 lines, create two lists: lesser and greater\n",
    "    for n in arr[1:]: #for n in array's 1st element onwards\n",
    "        if n <= pivot: #if n is equal to or smaller than the pivot, append it to lesser array\n",
    "            lesser.append(n)\n",
    "        else:\n",
    "            greater.append(n) #else, append to greater array\n",
    "    return lesser, greater\n",
    "    #partition is called by qsort\n",
    "    #if the pivot is always at the front then we can just skip 0th element\n",
    "# =======================\n",
    "# EXAMPLE TESTING CASES\n",
    "# DO NOT CHANGE\n",
    "A = [12, 23, 43, 21]\n",
    "arr = qsort(A)\n",
    "print(arr) #[12, 21, 23, 43]"
   ]
  },
  {
   "cell_type": "markdown",
   "metadata": {},
   "source": [
    "## Exercise 4 (25%)\n",
    "Please implement the quick sort algorithm that \n",
    "1. sort the numbers in **descending** order and\n",
    "1. uses **random** element as the pivot.\n",
    "\n",
    "For simplicity, you can assume all number in the array are unique."
   ]
  },
  {
   "cell_type": "code",
   "execution_count": 18,
   "metadata": {
    "tags": []
   },
   "outputs": [
    {
     "name": "stdout",
     "output_type": "stream",
     "text": [
      "[23, 16, 12, 9, 5]\n"
     ]
    }
   ],
   "source": [
    "import random\n",
    "\n",
    "def qsort_dec(arr):\n",
    "    # YOUR CODE BELOW\n",
    "    # ~5 LINES\n",
    "    # Copy and modify the qsort() function above\n",
    "        if len(arr) < 2: # if length of array is smaller than 2\n",
    "            return arr #there are only 2 elements in this case so it is already sorted\n",
    "        else:\n",
    "        # Read two lines below carefully, you will implement the partition function\n",
    "            lesser, greater, pivot = partition_dec(arr)\n",
    "            return qsort_dec(lesser) + [pivot] + qsort_dec(greater)\n",
    "    \n",
    "def partition_dec(arr):\n",
    "    lesser = []\n",
    "    greater = []\n",
    "    # YOUR CODE BELOW    \n",
    "    # ~ 6 lines, copy and update from Task 3\n",
    "    \n",
    "    rand = random.randint(0, len(arr) - 1) #randomization within the range of the array length by using the random library import\n",
    "    \n",
    "    pivot = arr[rand] #pivot is randomized from above\n",
    "    arr.pop(rand)   #removes the random pivot to prevent duplicates\n",
    "    for n in arr: #for n in array's 1st element onwards\n",
    "\n",
    "        \n",
    "        \n",
    "        if n >= pivot: #if n is equal to or smaller than the pivot\n",
    "            #also checking to see if there are any duplicates in the list\n",
    "            lesser.append(n) #append to lesser array\n",
    "            # print(lesser)\n",
    "        else:\n",
    "            greater.append(n) #else, append to greater array\n",
    "             # print(greater)\n",
    "    \n",
    "    return lesser, greater, pivot\n",
    "    \n",
    "\n",
    "# =======================\n",
    "# EXAMPLE TESTING CASES\n",
    "# DO NOT CHANGE\n",
    "A = [5, 9, 12, 16, 23]\n",
    "arr = qsort_dec(A)\n",
    "print(arr) # [23, 16, 12, 9, 5]"
   ]
  },
  {
   "cell_type": "code",
   "execution_count": null,
   "metadata": {},
   "outputs": [],
   "source": []
  }
 ],
 "metadata": {
  "kernelspec": {
   "display_name": "Python 3",
   "language": "python",
   "name": "python3"
  },
  "language_info": {
   "codemirror_mode": {
    "name": "ipython",
    "version": 3
   },
   "file_extension": ".py",
   "mimetype": "text/x-python",
   "name": "python",
   "nbconvert_exporter": "python",
   "pygments_lexer": "ipython3",
   "version": "3.7.4"
  },
  "otter": {
   "tests": {
    "Task 1": {
     "name": "Task 1",
     "points": 1,
     "suites": [
      {
       "cases": [
        {
         "code": ">>> fibo(10)\nf1 = 1\nf2 = 1\nf3 = 2\nf4 = 3\nf5 = 5\nf6 = 8\nf7 = 13\nf8 = 21\nf9 = 34\nf10 = 55\n",
         "failure_message": "Incorrect answer, try again!",
         "hidden": false,
         "locked": false,
         "success_message": "Good job!"
        }
       ],
       "scored": true,
       "setup": "",
       "teardown": "",
       "type": "doctest"
      }
     ]
    },
    "Task 2": {
     "name": "Task 2",
     "points": 1,
     "suites": [
      {
       "cases": [
        {
         "code": ">>> fibo_rec(5) == 5\nTrue",
         "failure_message": "Incorrect answer, try again!",
         "hidden": false,
         "locked": false,
         "success_message": "Good job!"
        },
        {
         "code": ">>> fibo_rec(10) == 55\nTrue",
         "failure_message": "Incorrect answer, try again!",
         "hidden": false,
         "locked": false,
         "success_message": "Good job!"
        }
       ],
       "scored": true,
       "setup": "",
       "teardown": "",
       "type": "doctest"
      }
     ]
    },
    "Task 3": {
     "name": "Task 3",
     "points": 1,
     "suites": [
      {
       "cases": [
        {
         "code": ">>> a = qsort([5, 3, 2, -5])\n>>> a[3] ==5 \nTrue",
         "failure_message": "Incorrect answer, try again!",
         "hidden": false,
         "locked": false,
         "success_message": "Good job!"
        }
       ],
       "scored": true,
       "setup": "",
       "teardown": "",
       "type": "doctest"
      }
     ]
    },
    "Task 4": {
     "name": "Task 4",
     "points": 1,
     "suites": [
      {
       "cases": [
        {
         "code": ">>> qsort_dec([98, 23, 43, 21, 53, 29])\n[98, 53, 43, 29, 23, 21]",
         "failure_message": "Incorrect answer, try again!",
         "hidden": false,
         "locked": false,
         "success_message": "Good job!"
        }
       ],
       "scored": true,
       "setup": "",
       "teardown": "",
       "type": "doctest"
      }
     ]
    }
   }
  },
  "vscode": {
   "interpreter": {
    "hash": "05d71bb14c256c5c09cbb3f79dbb9af34049cdae59255ae228c765f780d77658"
   }
  }
 },
 "nbformat": 4,
 "nbformat_minor": 5
}
