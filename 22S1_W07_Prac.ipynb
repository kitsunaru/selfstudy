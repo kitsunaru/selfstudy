{
 "cells": [
  {
   "cell_type": "markdown",
   "metadata": {},
   "source": [
    "# COMP SCI 2009 Programming for IT - W07 - Practical"
   ]
  },
  {
   "cell_type": "markdown",
   "metadata": {},
   "source": [
    "<!-- BEGIN QUESTION -->\n",
    "\n",
    "# Q1"
   ]
  },
  {
   "cell_type": "markdown",
   "metadata": {},
   "source": [
    "In IPIT, you have already coded a number guessing game in one of your practical assignment. In the assignment, you are the one guessing the number, while the program tells you if your guess is larger or smaller than the answer. In this exercise, you will do the opposite, i.e., the user inputs a number (between 0 ~ 999) and a number guessing AI continuously guesses the number (using a binary search method) according to the user response.\n",
    "\n",
    "Below is an example. *words between asterisk* are user inputs. \n",
    "```\n",
    "Please input a number (0~999):  *523*\n",
    "Is the number 500 ? :  *larger*\n",
    "Is the number 725 ? :  *smaller*\n",
    "Is the number 612 ? :   *smaller*\n",
    "...\n",
    "Is the number 523? :   *yes*\n",
    "```"
   ]
  },
  {
   "cell_type": "code",
   "execution_count": 21,
   "metadata": {
    "tags": []
   },
   "outputs": [
    {
     "name": "stdout",
     "output_type": "stream",
     "text": [
      "Please answer a number(0~999)499\n",
      "Is the number 499?yes\n"
     ]
    }
   ],
   "source": [
    "# the range of the number\n",
    "left = 0\n",
    "right = 999\n",
    "\n",
    "# user input the answer\n",
    "answer = int(input(f'Please answer a number(0~999)'))\n",
    "\n",
    "# AI guessing loop starts\n",
    "cnt = 0\n",
    "while True:\n",
    "    # instead of random guess, AI should use binary search\n",
    "    # REPLACE the line below\n",
    "    guess = (left + right)//2 # double / to avoid floating error\n",
    "    response = input(f'Is the number {guess}?') #changes the input to an integer \n",
    "    \n",
    "    # INSERT YOUR CODE BELOW    \n",
    "    # Update left or right according to the response\n",
    "    # ~ 7 lines\n",
    "    if response == 'smaller': #if response is smaller than guess user inputs smaller\n",
    "        right = guess\n",
    "    elif response == 'larger': #if response is larger than guess user inputs larger\n",
    "        left = guess\n",
    "    elif response == 'yes': #if response is correct user inputs yes\n",
    "        break\n",
    "\n",
    "    # terminate loop for autograder\n",
    "    cnt += 1\n",
    "    if cnt >= 15:\n",
    "        break"
   ]
  },
  {
   "cell_type": "markdown",
   "metadata": {},
   "source": [
    "<!-- END QUESTION -->\n",
    "\n",
    "# Q2"
   ]
  },
  {
   "cell_type": "markdown",
   "metadata": {},
   "source": [
    "Below is the pseudo code of an **insertion sort** algorithm. Note that in this pseudocode the index starts from `1` instead of `0` and you will need to modify the code accordingly. \n",
    "```\n",
    "INSERTION_SORT(A)\n",
    "for j = 2 to A.length\n",
    "    key = A[j]\n",
    "    // Insert A[j] into the sorted sequence A[1..j-1]\n",
    "    i = j - 1\n",
    "    while i > 0 and A[i] > key\n",
    "        A[i+1] = A[i]\n",
    "        i = i - 1\n",
    "    A[i+1] = key\n",
    "```"
   ]
  },
  {
   "cell_type": "markdown",
   "metadata": {},
   "source": [
    "Please do the following\n",
    "1. Read the pseudo code and explain how **each line of the code** works. (<font color='red'>Before you start Googling about **insertion sort**, please spend 10 minutes reading the pseudocode and make sense of it!</font>)\n",
    "2. Implement the pseudocode using Python in the cell below."
   ]
  },
  {
   "cell_type": "code",
   "execution_count": 47,
   "metadata": {
    "tags": []
   },
   "outputs": [
    {
     "name": "stdout",
     "output_type": "stream",
     "text": [
      "[3, 13, 14, 17, 28, 31, 35, 81, 86, 94]\n",
      "[3, 25, 28, 53, 69, 71, 77, 83, 89, 91]\n"
     ]
    }
   ],
   "source": [
    "def insert_sort(A):\n",
    "    for j in range(0, len(A)):\n",
    "        # ~6 line\n",
    "        key = A[j] #key to sort the list of A\n",
    "        i = j - 1\n",
    "        \n",
    "        while i >= 0 and A[i] > key: #before sorting, while i is greater or is equal to 0 and i in list A is greater than 'key'\n",
    "            A[i + 1] = A[i] #sorts the integer from smallest to largest\n",
    "            i -= 1 #'i' will always be 1 integer lower than 'j' (line 5)\n",
    "        A[i + 1] = key #finishes the rearrangement\n",
    "        \n",
    "    return A\n",
    "\n",
    "# =======================\n",
    "# EXAMPLE TESTING CASES\n",
    "# DO NOT CHANGE\n",
    "\n",
    "A = insert_sort([81, 14, 3, 94, 35, 31, 28, 17, 13, 86])\n",
    "print(A) # [3, 13, 14, 17, 28, 31, 35, 81, 86, 94]\n",
    "A = insert_sort([77, 3, 71, 25, 91, 83, 89, 69, 53, 28])\n",
    "print(A) # [3, 25, 28, 53, 69, 71, 77, 83, 89, 91]"
   ]
  },
  {
   "cell_type": "markdown",
   "metadata": {},
   "source": [
    "# Q3: Max Consecutive Identical Characters"
   ]
  },
  {
   "cell_type": "markdown",
   "metadata": {},
   "source": [
    "Given a string, return the maximum number of consecutive identical characters.\n",
    "\n",
    "**Example 1**\n",
    "\n",
    "- Input: `aabbccccddd`<br>\n",
    "- Output: 4<br>\n",
    "- Comment: The input has 2 consecutive `a`, 2 `b`, 4 `c`, 3 `d`, thus the maximum number of consecutive identical characters is 4.\n",
    "\n",
    "**Example 2**\n",
    "\n",
    "- Input: `abcffgfffffgg`<br>\n",
    "- Output: 5<br>\n",
    "- Comment: Although there are 7 `f`, the longest consecutive substring is `fffff` as there is a `g` between `ff` and `fffff`. \n",
    "**Example 3**\n",
    "\n",
    "- Input: `apple`<br>\n",
    "- Output: 2<br>"
   ]
  },
  {
   "cell_type": "code",
   "execution_count": 7,
   "metadata": {
    "tags": []
   },
   "outputs": [
    {
     "name": "stdout",
     "output_type": "stream",
     "text": [
      "4\n",
      "5\n"
     ]
    }
   ],
   "source": [
    "def consec_char(input_str):\n",
    "    max_cnt = -1   \n",
    "    cnt = 0 #counter\n",
    "    cur = input_str[0]\n",
    "    for i in range(len(input_str)):\n",
    "        c = input_str[i]\n",
    "        # hint: check if c is equal to cur. If not, update cur and check max_cnt\n",
    "        # <10 lines\n",
    "        if c == cur: #if c is equal to cur\n",
    "            \n",
    "            cnt += 1 # + 1 to counter\n",
    "            if cnt > max_cnt:\n",
    "                max_cnt = cnt # max_cnt is updated to new counter\n",
    "               \n",
    "            \n",
    "        else:\n",
    "            cnt = 1 #if counter doesn't meet requirements of the greater than if statement, it is set to 0 again\n",
    "            \n",
    "        cur = c   \n",
    "    return max_cnt\n",
    "\n",
    "# =======================\n",
    "# EXAMPLE TESTING CASES\n",
    "# DO NOT CHANGE\n",
    "c = consec_char('aabbccccddd')\n",
    "print(c) # 4\n",
    "c = consec_char('abcffgfffffgg')\n",
    "print(c) # 5"
   ]
  },
  {
   "cell_type": "markdown",
   "metadata": {},
   "source": [
    "# Q4: Longest Continuous Decreasing Subsequence"
   ]
  },
  {
   "cell_type": "markdown",
   "metadata": {},
   "source": [
    "Given an unsorted array of integers nums, return the length of the longest continuous decreasing subsequence (i.e. subarray). The subsequence must be **strictly** decreasing.\n",
    "\n",
    "Formally, a continuous decreasing subsequence is defined by two indices l and r (l < r) such that it is [nums[l], nums[l + 1], ..., nums[r - 1], nums[r]] and for each l <= i < r, nums[i] > nums[i + 1].\n",
    "\n",
    "**Example 1** \n",
    "- input: `[3,5,4,3,2,7,1]`\n",
    "- output: 4\n",
    "- The longest continuous decreasing subsequence is `5432`. Note that although `54321` is the longest decreasing subsequence, it is not a continuous one as `7` is betweeen `2` and `1`\n",
    "\n",
    "**Example 2**\n",
    "- input: `[7,8,9,7,7,6,5,3,6]`\n",
    "- output: 4\n",
    "- The subsequence is [7, 6, 5, 3]. The numbers must be strictly decreasing, thus the 4th and 5th elements are both `7` and do not satisfy the requirement. \n",
    "\n",
    "**Example 3**\n",
    "- input: `[2,4,8,6,5,8]`\n",
    "- output: 3\n",
    "\n",
    "**Example 4**\n",
    "- input: `[1, 2, 3]`\n",
    "- output: 1\n",
    "- Special case when there is no continuous decreasing subsequence. "
   ]
  },
  {
   "cell_type": "code",
   "execution_count": 35,
   "metadata": {
    "tags": []
   },
   "outputs": [
    {
     "name": "stdout",
     "output_type": "stream",
     "text": [
      "4\n",
      "4\n"
     ]
    }
   ],
   "source": [
    "def lcds(array):\n",
    "    max_cnt = 0\n",
    "    cnt = 0\n",
    "    cur = array[0]\n",
    "    # INSERT YOUR CODE BELOW\n",
    "    for i in range(len(array)):\n",
    "        c = array[i]\n",
    "        if  c < cur: # if c is smaller to cur\n",
    "            cnt += 1 # + 1 to counter\n",
    "            \n",
    "        else:\n",
    "            cnt = 1 #if counter doesn't meet requirements of the greater than if statement, it is set to 0 again\n",
    "        cur = c\n",
    "        if cnt > max_cnt: # if counter is larger than max counter\n",
    "            max_cnt = cnt # max_cnt is updated to new counter\n",
    " \n",
    "    return max_cnt\n",
    "# =======================\n",
    "# EXAMPLE TESTING CASES\n",
    "# DO NOT CHANGE\n",
    "c = lcds([3,5,4,3,2,7,1])\n",
    "print(c) # 4\n",
    "c = lcds([7,8,9,7,7,6,5,3,6])\n",
    "print(c) # 4"
   ]
  },
  {
   "cell_type": "code",
   "execution_count": null,
   "metadata": {},
   "outputs": [],
   "source": []
  }
 ],
 "metadata": {
  "kernelspec": {
   "display_name": "Python 3",
   "language": "python",
   "name": "python3"
  },
  "language_info": {
   "codemirror_mode": {
    "name": "ipython",
    "version": 3
   },
   "file_extension": ".py",
   "mimetype": "text/x-python",
   "name": "python",
   "nbconvert_exporter": "python",
   "pygments_lexer": "ipython3",
   "version": "3.7.4"
  },
  "otter": {
   "tests": {
    "Q2": {
     "name": "Q2",
     "points": 25,
     "suites": [
      {
       "cases": [
        {
         "code": ">>> insert_sort([-5, 10, 3])\n[-5, 3, 10]",
         "failure_message": "Incorrect answer, try again!",
         "hidden": false,
         "locked": false,
         "success_message": "Good job!"
        },
        {
         "code": ">>> insert_sort([-5, 13, -5, 10])\n[-5, -5, 10, 13]",
         "failure_message": "Incorrect answer, try again!",
         "hidden": false,
         "locked": false,
         "success_message": "Good job!"
        }
       ],
       "scored": true,
       "setup": "",
       "teardown": "",
       "type": "doctest"
      }
     ]
    },
    "Q3": {
     "name": "Q3",
     "points": 25,
     "suites": [
      {
       "cases": [
        {
         "code": ">>> consec_char('aaaddc')\n3",
         "failure_message": "Incorrect answer, try again!",
         "hidden": false,
         "locked": false,
         "success_message": "Good job!"
        },
        {
         "code": ">>> consec_char('abcwwww')\n4",
         "failure_message": "Incorrect answer, try again!",
         "hidden": false,
         "locked": false,
         "success_message": "Good job!"
        }
       ],
       "scored": true,
       "setup": "",
       "teardown": "",
       "type": "doctest"
      }
     ]
    },
    "Q4": {
     "name": "Q4",
     "points": 25,
     "suites": [
      {
       "cases": [
        {
         "code": ">>> lcds([5, 4, 3])\n3",
         "failure_message": "Incorrect answer, try again!",
         "hidden": false,
         "locked": false,
         "success_message": "Good job!"
        },
        {
         "code": ">>> lcds([4, 5, 4, 4, 3, 2, 1])\n4",
         "failure_message": "Incorrect answer, try again!",
         "hidden": false,
         "locked": false,
         "success_message": "Good job!"
        },
        {
         "code": ">>> lcds([4, 5, 6])\n1",
         "failure_message": "Incorrect answer, try again!",
         "hidden": false,
         "locked": false,
         "success_message": "Good job!"
        }
       ],
       "scored": true,
       "setup": "",
       "teardown": "",
       "type": "doctest"
      }
     ]
    }
   }
  }
 },
 "nbformat": 4,
 "nbformat_minor": 5
}
