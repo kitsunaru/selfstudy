{
 "cells": [
  {
   "cell_type": "code",
   "execution_count": null,
   "metadata": {},
   "outputs": [
    {
     "name": "stdout",
     "output_type": "stream",
     "text": [
      "How many iterations do you want to run?: 5\n",
      "T\n",
      "T\n",
      "H\n",
      "T\n",
      "H\n"
     ]
    }
   ],
   "source": [
    "import random\n",
    "\n",
    "ite = input('How many iterations do you want to run?: ') #defines how many iterations of coin flips the program must run\n",
    "\n",
    "result = [\"H\", \"T\"] #result is heads or tails\n",
    "\n",
    "def ctoss(): #defining coin toss function\n",
    "    rand_toss = random.randint(0, 1) #using a function of random integer from random library to pick from 0 and 1 as rand_toss\n",
    "\n",
    "    print(result[rand_toss]) #prints out the result and assigns 0 to heads and 1 to tails with result[rand_toss]\n",
    "    \n",
    "    \n",
    "for i in range(int(ite)): #for i in range of iterations\n",
    "    ctoss() #calls the function ctoss"
   ]
  },
  {
   "cell_type": "code",
   "execution_count": null,
   "metadata": {},
   "outputs": [],
   "source": []
  }
 ],
 "metadata": {
  "kernelspec": {
   "display_name": "Python 3.7.4 ('base')",
   "language": "python",
   "name": "python3"
  },
  "language_info": {
   "codemirror_mode": {
    "name": "ipython",
    "version": 3
   },
   "file_extension": ".py",
   "mimetype": "text/x-python",
   "name": "python",
   "nbconvert_exporter": "python",
   "pygments_lexer": "ipython3",
   "version": "3.7.4"
  },
  "vscode": {
   "interpreter": {
    "hash": "05d71bb14c256c5c09cbb3f79dbb9af34049cdae59255ae228c765f780d77658"
   }
  }
 },
 "nbformat": 4,
 "nbformat_minor": 2
}
